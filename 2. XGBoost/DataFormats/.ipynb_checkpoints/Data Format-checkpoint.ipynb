{
 "cells": [
  {
   "cell_type": "markdown",
   "metadata": {},
   "source": [
    "# Introduction to Data Formats"
   ]
  },
  {
   "cell_type": "code",
   "execution_count": 1,
   "metadata": {},
   "outputs": [],
   "source": [
    "import numpy as np\n",
    "import pandas as pd\n",
    "import boto3\n",
    "\n",
    "import sagemaker.amazon.common as smac"
   ]
  },
  {
   "cell_type": "code",
   "execution_count": 2,
   "metadata": {},
   "outputs": [],
   "source": [
    "np.random.seed(5)"
   ]
  },
  {
   "cell_type": "code",
   "execution_count": 3,
   "metadata": {},
   "outputs": [
    {
     "name": "stdout",
     "output_type": "stream",
     "text": [
      "2019-10-17 07:03:33 aws-deepracer-ef5d6995-11ca-4800-a5bf-694244303368\r\n",
      "2019-09-06 03:55:51 cdktoolkit-stagingbucket-cfb7w421pk09\r\n",
      "2019-09-06 03:55:51 cdktoolkit-stagingbucket-ohzm67k4ffb7\r\n",
      "2019-09-17 04:42:44 cloud9-507922848584-sam-deployments-us-east-1\r\n",
      "2019-08-01 18:08:18 cloudtrail-awslogs-507922848584-psq7khfg-isengard-do-not-delete\r\n",
      "2019-08-16 07:23:22 codepipeline-us-east-2-531781646601\r\n",
      "2019-11-07 18:11:10 debnsuma-ml-sagemaker\r\n",
      "2019-10-14 08:03:04 deeplens-sagemaker-cd804e45-2557-44bf-889d-441b68c2593c\r\n",
      "2019-08-01 18:23:18 do-not-delete-gatedgarden-audit-507922848584\r\n",
      "2019-08-14 10:44:27 elasticbeanstalk-us-east-2-507922848584\r\n",
      "2019-09-06 04:00:46 hello-cdk-1-myhelloconstructbucket0daec57e1-yiqg4smxb5bc\r\n",
      "2019-09-06 04:00:46 hello-cdk-1-myhelloconstructbucket18d9883be-dg8s1cspliig\r\n",
      "2019-09-06 04:00:47 hello-cdk-1-myhelloconstructbucket2c1da3656-12vb7vvjv834y\r\n",
      "2019-09-06 04:00:46 hello-cdk-1-myhelloconstructbucket398a5de67-1qmaqal6sde8m\r\n",
      "2019-10-25 13:19:02 my-ai-bucket-suman\r\n",
      "2019-10-11 18:04:56 my-image-demo-bucket\r\n",
      "2019-10-11 18:05:42 my-thumb-demo-bucket\r\n",
      "2019-09-24 08:45:09 workingstuff-suman\r\n"
     ]
    }
   ],
   "source": [
    "!aws s3 ls"
   ]
  },
  {
   "cell_type": "code",
   "execution_count": 4,
   "metadata": {},
   "outputs": [],
   "source": [
    "s3_bucket_name = \"debnsuma-ml-sagemaker\""
   ]
  },
  {
   "cell_type": "markdown",
   "metadata": {},
   "source": [
    "## Sample DataSet"
   ]
  },
  {
   "cell_type": "code",
   "execution_count": 19,
   "metadata": {},
   "outputs": [],
   "source": [
    "n = 10\n",
    "\n",
    "x1 = np.random.random_sample(n)           # n floating point numbers between 0 and 1\n",
    "x2 = np.random.randint(1, 100, n)         # n integers between 1 and 100\n",
    "x3 = np.random.random_sample(n) * 10      # n floating point numbers between 0 and 10\n",
    "\n",
    "y = np.random.randint(0, 2, n)            # Lable > i.e. response variable which will hold value between 0 or 1"
   ]
  },
  {
   "cell_type": "markdown",
   "metadata": {},
   "source": [
    "#### Lets create a DataFrame using this dataset"
   ]
  },
  {
   "cell_type": "code",
   "execution_count": 22,
   "metadata": {},
   "outputs": [],
   "source": [
    "df = pd.DataFrame({\"x1\": x1,\n",
    "                 \"x2\": x2,\n",
    "                 \"x3\": x3,\n",
    "                 \"y\": y})"
   ]
  },
  {
   "cell_type": "code",
   "execution_count": 23,
   "metadata": {},
   "outputs": [
    {
     "data": {
      "text/html": [
       "<div>\n",
       "<style scoped>\n",
       "    .dataframe tbody tr th:only-of-type {\n",
       "        vertical-align: middle;\n",
       "    }\n",
       "\n",
       "    .dataframe tbody tr th {\n",
       "        vertical-align: top;\n",
       "    }\n",
       "\n",
       "    .dataframe thead th {\n",
       "        text-align: right;\n",
       "    }\n",
       "</style>\n",
       "<table border=\"1\" class=\"dataframe\">\n",
       "  <thead>\n",
       "    <tr style=\"text-align: right;\">\n",
       "      <th></th>\n",
       "      <th>x1</th>\n",
       "      <th>x2</th>\n",
       "      <th>x3</th>\n",
       "      <th>y</th>\n",
       "    </tr>\n",
       "  </thead>\n",
       "  <tbody>\n",
       "    <tr>\n",
       "      <th>0</th>\n",
       "      <td>0.207779</td>\n",
       "      <td>68</td>\n",
       "      <td>1.343637</td>\n",
       "      <td>1</td>\n",
       "    </tr>\n",
       "    <tr>\n",
       "      <th>1</th>\n",
       "      <td>0.362459</td>\n",
       "      <td>80</td>\n",
       "      <td>3.018861</td>\n",
       "      <td>1</td>\n",
       "    </tr>\n",
       "    <tr>\n",
       "      <th>2</th>\n",
       "      <td>0.944759</td>\n",
       "      <td>18</td>\n",
       "      <td>1.364801</td>\n",
       "      <td>1</td>\n",
       "    </tr>\n",
       "    <tr>\n",
       "      <th>3</th>\n",
       "      <td>0.742238</td>\n",
       "      <td>88</td>\n",
       "      <td>3.177002</td>\n",
       "      <td>1</td>\n",
       "    </tr>\n",
       "    <tr>\n",
       "      <th>4</th>\n",
       "      <td>0.427671</td>\n",
       "      <td>12</td>\n",
       "      <td>6.791827</td>\n",
       "      <td>1</td>\n",
       "    </tr>\n",
       "    <tr>\n",
       "      <th>5</th>\n",
       "      <td>0.165975</td>\n",
       "      <td>31</td>\n",
       "      <td>6.013412</td>\n",
       "      <td>0</td>\n",
       "    </tr>\n",
       "    <tr>\n",
       "      <th>6</th>\n",
       "      <td>0.528426</td>\n",
       "      <td>27</td>\n",
       "      <td>9.972255</td>\n",
       "      <td>1</td>\n",
       "    </tr>\n",
       "    <tr>\n",
       "      <th>7</th>\n",
       "      <td>0.109175</td>\n",
       "      <td>9</td>\n",
       "      <td>5.609146</td>\n",
       "      <td>1</td>\n",
       "    </tr>\n",
       "    <tr>\n",
       "      <th>8</th>\n",
       "      <td>0.703617</td>\n",
       "      <td>52</td>\n",
       "      <td>5.487262</td>\n",
       "      <td>0</td>\n",
       "    </tr>\n",
       "    <tr>\n",
       "      <th>9</th>\n",
       "      <td>0.784509</td>\n",
       "      <td>62</td>\n",
       "      <td>6.423495</td>\n",
       "      <td>1</td>\n",
       "    </tr>\n",
       "  </tbody>\n",
       "</table>\n",
       "</div>"
      ],
      "text/plain": [
       "         x1  x2        x3  y\n",
       "0  0.207779  68  1.343637  1\n",
       "1  0.362459  80  3.018861  1\n",
       "2  0.944759  18  1.364801  1\n",
       "3  0.742238  88  3.177002  1\n",
       "4  0.427671  12  6.791827  1\n",
       "5  0.165975  31  6.013412  0\n",
       "6  0.528426  27  9.972255  1\n",
       "7  0.109175   9  5.609146  1\n",
       "8  0.703617  52  5.487262  0\n",
       "9  0.784509  62  6.423495  1"
      ]
     },
     "execution_count": 23,
     "metadata": {},
     "output_type": "execute_result"
    }
   ],
   "source": [
    "df"
   ]
  },
  {
   "cell_type": "markdown",
   "metadata": {},
   "source": [
    "#### Save this dataset in CSV into this SageMaker Notebook"
   ]
  },
  {
   "cell_type": "code",
   "execution_count": 26,
   "metadata": {},
   "outputs": [],
   "source": [
    "df.to_csv(\"myfile.csv\", index=False)"
   ]
  },
  {
   "cell_type": "markdown",
   "metadata": {},
   "source": [
    "#### Function to read a file from Amazon S3"
   ]
  },
  {
   "cell_type": "code",
   "execution_count": 35,
   "metadata": {},
   "outputs": [],
   "source": [
    "def download_from_s3(bucket, key, filename):\n",
    "    \n",
    "    s3_client = boto3.client('s3')\n",
    "    s3_client.download_file(bucket, key, filename)\n",
    "        "
   ]
  },
  {
   "cell_type": "markdown",
   "metadata": {},
   "source": [
    "#### Function to write a file from Amazon S3"
   ]
  },
  {
   "cell_type": "code",
   "execution_count": 32,
   "metadata": {},
   "outputs": [],
   "source": [
    "def upload_to_s3(file_name, bucket, key):\n",
    "    \n",
    "    s3_client = boto3.client('s3')\n",
    "    s3_client.upload_file(file_name, bucket, key)"
   ]
  },
  {
   "cell_type": "markdown",
   "metadata": {},
   "source": [
    "Uploading the file ```myfile.csv``` to S3 Bucket "
   ]
  },
  {
   "cell_type": "code",
   "execution_count": 33,
   "metadata": {},
   "outputs": [],
   "source": [
    "upload_to_s3(\"myfile.csv\", s3_bucket_name, \"myfile_destination.csv\" )"
   ]
  },
  {
   "cell_type": "markdown",
   "metadata": {},
   "source": [
    "Download the file ```myfile_destination.csv``` to SageMaker Instance"
   ]
  },
  {
   "cell_type": "code",
   "execution_count": 36,
   "metadata": {},
   "outputs": [],
   "source": [
    "download_from_s3(s3_bucket_name, \"myfile_destination.csv\", \"myfile_from_s3.csv\")"
   ]
  },
  {
   "cell_type": "markdown",
   "metadata": {},
   "source": [
    "### RecordIO Format"
   ]
  },
  {
   "cell_type": "markdown",
   "metadata": {},
   "source": [
    "\n",
    "We will use SageMaker SDK write_numpy_to_dense_tensor() method to create RecordIO files\n",
    "\n",
    "\n",
    "Data Types: Int32, Float32, Float64  \n",
    "\n",
    "Reference:\n",
    "https://github.com/aws/sagemaker-python-sdk/blob/master/src/sagemaker/amazon/common.py"
   ]
  },
  {
   "cell_type": "code",
   "execution_count": 38,
   "metadata": {},
   "outputs": [
    {
     "data": {
      "text/html": [
       "<div>\n",
       "<style scoped>\n",
       "    .dataframe tbody tr th:only-of-type {\n",
       "        vertical-align: middle;\n",
       "    }\n",
       "\n",
       "    .dataframe tbody tr th {\n",
       "        vertical-align: top;\n",
       "    }\n",
       "\n",
       "    .dataframe thead th {\n",
       "        text-align: right;\n",
       "    }\n",
       "</style>\n",
       "<table border=\"1\" class=\"dataframe\">\n",
       "  <thead>\n",
       "    <tr style=\"text-align: right;\">\n",
       "      <th></th>\n",
       "      <th>x1</th>\n",
       "      <th>x2</th>\n",
       "      <th>x3</th>\n",
       "      <th>y</th>\n",
       "    </tr>\n",
       "  </thead>\n",
       "  <tbody>\n",
       "    <tr>\n",
       "      <th>0</th>\n",
       "      <td>0.207779</td>\n",
       "      <td>68</td>\n",
       "      <td>1.343637</td>\n",
       "      <td>1</td>\n",
       "    </tr>\n",
       "    <tr>\n",
       "      <th>1</th>\n",
       "      <td>0.362459</td>\n",
       "      <td>80</td>\n",
       "      <td>3.018861</td>\n",
       "      <td>1</td>\n",
       "    </tr>\n",
       "    <tr>\n",
       "      <th>2</th>\n",
       "      <td>0.944759</td>\n",
       "      <td>18</td>\n",
       "      <td>1.364801</td>\n",
       "      <td>1</td>\n",
       "    </tr>\n",
       "    <tr>\n",
       "      <th>3</th>\n",
       "      <td>0.742238</td>\n",
       "      <td>88</td>\n",
       "      <td>3.177002</td>\n",
       "      <td>1</td>\n",
       "    </tr>\n",
       "    <tr>\n",
       "      <th>4</th>\n",
       "      <td>0.427671</td>\n",
       "      <td>12</td>\n",
       "      <td>6.791827</td>\n",
       "      <td>1</td>\n",
       "    </tr>\n",
       "  </tbody>\n",
       "</table>\n",
       "</div>"
      ],
      "text/plain": [
       "         x1  x2        x3  y\n",
       "0  0.207779  68  1.343637  1\n",
       "1  0.362459  80  3.018861  1\n",
       "2  0.944759  18  1.364801  1\n",
       "3  0.742238  88  3.177002  1\n",
       "4  0.427671  12  6.791827  1"
      ]
     },
     "execution_count": 38,
     "metadata": {},
     "output_type": "execute_result"
    }
   ],
   "source": [
    "df.head()"
   ]
  },
  {
   "cell_type": "code",
   "execution_count": 44,
   "metadata": {},
   "outputs": [],
   "source": [
    "data = df[['x1', 'x2', 'x3']].to_numpy()"
   ]
  },
  {
   "cell_type": "code",
   "execution_count": 45,
   "metadata": {},
   "outputs": [
    {
     "data": {
      "text/plain": [
       "array([[ 0.20777913, 68.        ,  1.34363728],\n",
       "       [ 0.36245928, 80.        ,  3.01886098],\n",
       "       [ 0.94475876, 18.        ,  1.36480094],\n",
       "       [ 0.74223792, 88.        ,  3.17700203],\n",
       "       [ 0.42767057, 12.        ,  6.79182681],\n",
       "       [ 0.16597462, 31.        ,  6.01341156],\n",
       "       [ 0.52842608, 27.        ,  9.97225467],\n",
       "       [ 0.10917502,  9.        ,  5.6091459 ],\n",
       "       [ 0.70361658, 52.        ,  5.48726197],\n",
       "       [ 0.78450887, 62.        ,  6.4234954 ]])"
      ]
     },
     "execution_count": 45,
     "metadata": {},
     "output_type": "execute_result"
    }
   ],
   "source": [
    "data"
   ]
  },
  {
   "cell_type": "code",
   "execution_count": 46,
   "metadata": {},
   "outputs": [
    {
     "data": {
      "text/plain": [
       "numpy.ndarray"
      ]
     },
     "execution_count": 46,
     "metadata": {},
     "output_type": "execute_result"
    }
   ],
   "source": [
    "type(data)"
   ]
  },
  {
   "cell_type": "code",
   "execution_count": 47,
   "metadata": {},
   "outputs": [],
   "source": [
    "response = df[['y']].to_numpy()"
   ]
  },
  {
   "cell_type": "code",
   "execution_count": 48,
   "metadata": {},
   "outputs": [
    {
     "data": {
      "text/plain": [
       "array([[1],\n",
       "       [1],\n",
       "       [1],\n",
       "       [1],\n",
       "       [1],\n",
       "       [0],\n",
       "       [1],\n",
       "       [1],\n",
       "       [0],\n",
       "       [1]])"
      ]
     },
     "execution_count": 48,
     "metadata": {},
     "output_type": "execute_result"
    }
   ],
   "source": [
    "response"
   ]
  },
  {
   "cell_type": "code",
   "execution_count": 51,
   "metadata": {},
   "outputs": [],
   "source": [
    "# Flatten to a single dimension array of 10 elements\n",
    "response = response.ravel()"
   ]
  },
  {
   "cell_type": "code",
   "execution_count": 52,
   "metadata": {},
   "outputs": [
    {
     "data": {
      "text/plain": [
       "array([1, 1, 1, 1, 1, 0, 1, 1, 0, 1])"
      ]
     },
     "execution_count": 52,
     "metadata": {},
     "output_type": "execute_result"
    }
   ],
   "source": [
    "response"
   ]
  },
  {
   "cell_type": "markdown",
   "metadata": {},
   "source": [
    "#### Function to create a RecordIO_File"
   ]
  },
  {
   "cell_type": "code",
   "execution_count": 55,
   "metadata": {},
   "outputs": [],
   "source": [
    "def write_recordio_file(filename, x, y=None):\n",
    "    with open(filename, 'wb') as fh:\n",
    "        smac.write_numpy_to_dense_tensor(fh, data, response)"
   ]
  },
  {
   "cell_type": "markdown",
   "metadata": {},
   "source": [
    "#### Function to read a RecordIO_File"
   ]
  },
  {
   "cell_type": "code",
   "execution_count": 63,
   "metadata": {},
   "outputs": [],
   "source": [
    "def read_recordio_file(filename, recordToPrint=10):\n",
    "    with open(filename, 'rb') as fh:\n",
    "        record = smac.read_records(fh)\n",
    "        \n",
    "        for i, r in enumerate(record):\n",
    "            if i >= recordToPrint:\n",
    "                break\n",
    "            print(f\"Record: {i}\")\n",
    "            print(r)"
   ]
  },
  {
   "cell_type": "code",
   "execution_count": 60,
   "metadata": {},
   "outputs": [],
   "source": [
    "write_recordio_file(\"my_file.recordio\", data, response)"
   ]
  },
  {
   "cell_type": "code",
   "execution_count": 59,
   "metadata": {},
   "outputs": [
    {
     "data": {
      "text/html": [
       "<div>\n",
       "<style scoped>\n",
       "    .dataframe tbody tr th:only-of-type {\n",
       "        vertical-align: middle;\n",
       "    }\n",
       "\n",
       "    .dataframe tbody tr th {\n",
       "        vertical-align: top;\n",
       "    }\n",
       "\n",
       "    .dataframe thead th {\n",
       "        text-align: right;\n",
       "    }\n",
       "</style>\n",
       "<table border=\"1\" class=\"dataframe\">\n",
       "  <thead>\n",
       "    <tr style=\"text-align: right;\">\n",
       "      <th></th>\n",
       "      <th>x1</th>\n",
       "      <th>x2</th>\n",
       "      <th>x3</th>\n",
       "      <th>y</th>\n",
       "    </tr>\n",
       "  </thead>\n",
       "  <tbody>\n",
       "    <tr>\n",
       "      <th>0</th>\n",
       "      <td>0.207779</td>\n",
       "      <td>68</td>\n",
       "      <td>1.343637</td>\n",
       "      <td>1</td>\n",
       "    </tr>\n",
       "    <tr>\n",
       "      <th>1</th>\n",
       "      <td>0.362459</td>\n",
       "      <td>80</td>\n",
       "      <td>3.018861</td>\n",
       "      <td>1</td>\n",
       "    </tr>\n",
       "    <tr>\n",
       "      <th>2</th>\n",
       "      <td>0.944759</td>\n",
       "      <td>18</td>\n",
       "      <td>1.364801</td>\n",
       "      <td>1</td>\n",
       "    </tr>\n",
       "  </tbody>\n",
       "</table>\n",
       "</div>"
      ],
      "text/plain": [
       "         x1  x2        x3  y\n",
       "0  0.207779  68  1.343637  1\n",
       "1  0.362459  80  3.018861  1\n",
       "2  0.944759  18  1.364801  1"
      ]
     },
     "execution_count": 59,
     "metadata": {},
     "output_type": "execute_result"
    }
   ],
   "source": [
    "df.head(3)"
   ]
  },
  {
   "cell_type": "code",
   "execution_count": 69,
   "metadata": {
    "collapsed": true
   },
   "outputs": [
    {
     "name": "stdout",
     "output_type": "stream",
     "text": [
      "Record: 0\n",
      "features {\n",
      "  key: \"values\"\n",
      "  value {\n",
      "    float64_tensor {\n",
      "      values: 0.20777913154073901\n",
      "      values: 68.0\n",
      "      values: 1.3436372785235862\n",
      "    }\n",
      "  }\n",
      "}\n",
      "label {\n",
      "  key: \"values\"\n",
      "  value {\n",
      "    int32_tensor {\n",
      "      values: 1\n",
      "    }\n",
      "  }\n",
      "}\n",
      "\n"
     ]
    }
   ],
   "source": [
    "read_recordio_file(\"my_file.recordio\", 1)"
   ]
  },
  {
   "cell_type": "code",
   "execution_count": 71,
   "metadata": {
    "collapsed": true
   },
   "outputs": [
    {
     "name": "stdout",
     "output_type": "stream",
     "text": [
      "Record: 0\n",
      "features {\n",
      "  key: \"values\"\n",
      "  value {\n",
      "    float64_tensor {\n",
      "      values: 0.20777913154073901\n",
      "      values: 68.0\n",
      "      values: 1.3436372785235862\n",
      "    }\n",
      "  }\n",
      "}\n",
      "label {\n",
      "  key: \"values\"\n",
      "  value {\n",
      "    int32_tensor {\n",
      "      values: 1\n",
      "    }\n",
      "  }\n",
      "}\n",
      "\n",
      "Record: 1\n",
      "features {\n",
      "  key: \"values\"\n",
      "  value {\n",
      "    float64_tensor {\n",
      "      values: 0.3624592780248084\n",
      "      values: 80.0\n",
      "      values: 3.018860977327299\n",
      "    }\n",
      "  }\n",
      "}\n",
      "label {\n",
      "  key: \"values\"\n",
      "  value {\n",
      "    int32_tensor {\n",
      "      values: 1\n",
      "    }\n",
      "  }\n",
      "}\n",
      "\n"
     ]
    }
   ],
   "source": [
    "read_recordio_file(\"my_file.recordio\", 2)"
   ]
  },
  {
   "cell_type": "markdown",
   "metadata": {},
   "source": [
    "Writing this recordio file ```my_file.recordio``` to S3"
   ]
  },
  {
   "cell_type": "code",
   "execution_count": 73,
   "metadata": {},
   "outputs": [],
   "source": [
    "upload_to_s3(\"my_file.recordio\", s3_bucket_name, \"my_file.recordio\")"
   ]
  },
  {
   "cell_type": "code",
   "execution_count": 74,
   "metadata": {},
   "outputs": [],
   "source": [
    "download_from_s3(s3_bucket_name, \"my_file.recordio\", \"my_file_from_s3.recordio\")"
   ]
  },
  {
   "cell_type": "code",
   "execution_count": null,
   "metadata": {},
   "outputs": [],
   "source": []
  }
 ],
 "metadata": {
  "kernelspec": {
   "display_name": "conda_python3",
   "language": "python",
   "name": "conda_python3"
  },
  "language_info": {
   "codemirror_mode": {
    "name": "ipython",
    "version": 3
   },
   "file_extension": ".py",
   "mimetype": "text/x-python",
   "name": "python",
   "nbconvert_exporter": "python",
   "pygments_lexer": "ipython3",
   "version": "3.6.5"
  }
 },
 "nbformat": 4,
 "nbformat_minor": 2
}
